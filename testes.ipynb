{
  "nbformat": 4,
  "nbformat_minor": 0,
  "metadata": {
    "colab": {
      "private_outputs": true,
      "provenance": [],
      "collapsed_sections": [],
      "authorship_tag": "ABX9TyNw19y92RdH5m+xWkfyzf6U",
      "include_colab_link": true
    },
    "kernelspec": {
      "name": "python3",
      "display_name": "Python 3"
    },
    "language_info": {
      "name": "python"
    }
  },
  "cells": [
    {
      "cell_type": "markdown",
      "metadata": {
        "id": "view-in-github",
        "colab_type": "text"
      },
      "source": [
        "<a href=\"https://colab.research.google.com/github/carolineoliveira94/experimento/blob/main/testes.ipynb\" target=\"_parent\"><img src=\"https://colab.research.google.com/assets/colab-badge.svg\" alt=\"Open In Colab\"/></a>"
      ]
    },
    {
      "cell_type": "code",
      "source": [
        "words = [] # try to use more descriptive variable names ('list1' is not clear, 'words' is better)\n",
        "\n",
        "#num_words = int(input('Enter the length you want : '))\n",
        "\n",
        "for k in range(5):\n",
        "    words.append(str(input('Enter your word : '))) # directly append the inputted word, no need for an intermediate variable\n",
        "\n",
        "print()\n",
        "print('Lista com as palacvras criadas : ' , words)"
      ],
      "metadata": {
        "id": "Pfld2hqJhY3M"
      },
      "execution_count": null,
      "outputs": []
    },
    {
      "cell_type": "code",
      "source": [
        "result = 0\n",
        "\n",
        "for word in words:\n",
        "    if len(word) >= 5:\n",
        "        result += 1 \n",
        "\n",
        "vowels = 'A,a,E,e,I,i,O,o,U,u'\n",
        "count = 0\n",
        "for letter in words:\n",
        "    if letter in vowels:\n",
        "        count += 1\n",
        "\n",
        "print('Numbero de vogais: ' + str(count))\n",
        "\n"
      ],
      "metadata": {
        "id": "qEse-pi2yzAV"
      },
      "execution_count": null,
      "outputs": []
    },
    {
      "cell_type": "code",
      "source": [
        "print(words)"
      ],
      "metadata": {
        "id": "Zu2dlNbeqR6v"
      },
      "execution_count": null,
      "outputs": []
    },
    {
      "cell_type": "code",
      "source": [
        "maiusculas = [x.upper() for x in words]\n",
        "print(maiusculas)\n"
      ],
      "metadata": {
        "id": "g_f8LTtZqUwO"
      },
      "execution_count": null,
      "outputs": []
    },
    {
      "cell_type": "code",
      "source": [
        "minusculas = []\n",
        "for z in words:\n",
        "  minusculas.append(z.lower())\n",
        "print(minusculas)"
      ],
      "metadata": {
        "id": "C7oYbRnNrwya"
      },
      "execution_count": null,
      "outputs": []
    },
    {
      "cell_type": "markdown",
      "source": [],
      "metadata": {
        "id": "bdTyfoxmnu15"
      }
    },
    {
      "cell_type": "code",
      "source": [
        "def funcao():\n",
        "  words = [] \n",
        "\n",
        "\n",
        "for k in range(5):\n",
        "    words.append(str(input('Enter your word : ')))\n",
        "\n",
        "print()\n",
        "print('Lista com as palavras criadas : ' , words)\n",
        "\n",
        "for word in words:\n",
        "    if len(word) >= 5:\n",
        "        result += 1 \n",
        "\n",
        "print(result)\n",
        "\n",
        "count = 0\n",
        "\n",
        "for letter in words:\n",
        "    if letter in 'aeiou':\n",
        "        count += 1\n",
        "\n",
        "print('Numbero de vogais: ' + str(count))\n",
        "c\n"
      ],
      "metadata": {
        "id": "2pUGDdIzuxop"
      },
      "execution_count": null,
      "outputs": []
    }
  ]
}