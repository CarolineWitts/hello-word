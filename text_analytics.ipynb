{
  "nbformat": 4,
  "nbformat_minor": 0,
  "metadata": {
    "colab": {
      "private_outputs": true,
      "provenance": [],
      "authorship_tag": "ABX9TyOvFchx0CC8qyB/+RBwtnAn",
      "include_colab_link": true
    },
    "kernelspec": {
      "name": "python3",
      "display_name": "Python 3"
    },
    "language_info": {
      "name": "python"
    }
  },
  "cells": [
    {
      "cell_type": "markdown",
      "metadata": {
        "id": "view-in-github",
        "colab_type": "text"
      },
      "source": [
        "<a href=\"https://colab.research.google.com/github/carolineoliveira94/experimento/blob/main/text_analytics.ipynb\" target=\"_parent\"><img src=\"https://colab.research.google.com/assets/colab-badge.svg\" alt=\"Open In Colab\"/></a>"
      ]
    },
    {
      "cell_type": "code",
      "execution_count": null,
      "metadata": {
        "id": "lrpZ6s9qHI4R"
      },
      "outputs": [],
      "source": [
        "!pip install spacy pyLDAvis"
      ]
    },
    {
      "cell_type": "code",
      "source": [
        "!python -m spacy download pt_core_news_sm"
      ],
      "metadata": {
        "id": "fz9_Y9XtHknY"
      },
      "execution_count": null,
      "outputs": []
    },
    {
      "cell_type": "code",
      "source": [
        "import pandas as pd\n",
        "import matplotlib.pyplot as plt\n",
        "import spacy\n",
        "import nltk\n",
        "import re\n",
        "from nltk import word_tokenize\n",
        "from nltk.util import ngrams\n",
        "from sklearn.decomposition import LatentDirichletAllocation\n",
        "from sklearn.feature_extraction.text import CountVectorizer\n",
        "from collections import Counter\n",
        "\n",
        "import warnings\n",
        "warnings.filterwarnings('ignore')"
      ],
      "metadata": {
        "id": "Hk9-vu95IBft"
      },
      "execution_count": null,
      "outputs": []
    },
    {
      "cell_type": "markdown",
      "source": [
        "tratamento de pontuação"
      ],
      "metadata": {
        "id": "sIRD4CD3KCDZ"
      }
    },
    {
      "cell_type": "code",
      "source": [
        "nltk.download('punkt')"
      ],
      "metadata": {
        "id": "hO2sk20OJ5YQ"
      },
      "execution_count": null,
      "outputs": []
    },
    {
      "cell_type": "markdown",
      "source": [
        "conjunto de dados "
      ],
      "metadata": {
        "id": "LKBQikROKMPf"
      }
    },
    {
      "cell_type": "code",
      "source": [
        "news = pd.read_csv('https://www.dropbox.com/s/rvwjw8miow6jswy/articles.csv?dl=1')"
      ],
      "metadata": {
        "id": "QFgfhhHYKHsT"
      },
      "execution_count": null,
      "outputs": []
    },
    {
      "cell_type": "code",
      "source": [
        "news.head()"
      ],
      "metadata": {
        "id": "fhhq_pQ3Khcv"
      },
      "execution_count": null,
      "outputs": []
    },
    {
      "cell_type": "code",
      "source": [
        "news['category'].head(50)"
      ],
      "metadata": {
        "id": "c66Uv0UiLibo"
      },
      "execution_count": null,
      "outputs": []
    },
    {
      "cell_type": "code",
      "source": [
        "news['subcategory'].head(60)"
      ],
      "metadata": {
        "id": "_58fJsT7MBdr"
      },
      "execution_count": null,
      "outputs": []
    },
    {
      "cell_type": "markdown",
      "source": [
        "filtrar por turismo"
      ],
      "metadata": {
        "id": "bwybgrhPKyRh"
      }
    },
    {
      "cell_type": "code",
      "source": [
        "politica = news[news['category'] == 'poder']"
      ],
      "metadata": {
        "id": "Wns3KmUYKpGX"
      },
      "execution_count": null,
      "outputs": []
    },
    {
      "cell_type": "code",
      "source": [
        "politica.info()"
      ],
      "metadata": {
        "id": "CI70g-RWLLlv"
      },
      "execution_count": null,
      "outputs": []
    },
    {
      "cell_type": "markdown",
      "source": [
        "Limpar o texto"
      ],
      "metadata": {
        "id": "jqI1p5D_MO9e"
      }
    },
    {
      "cell_type": "code",
      "source": [
        "def limpa_texto(texto):\n",
        "  c = re.sub(r'\\n', ' ', texto)\n",
        "  c = re.sub(r'\\r', ' ', c)\n",
        "\n",
        "  c = c.replace(':', ' ')\n",
        "  c = c.replace('/', ' ')\n",
        "  c = re.sub(r'R\\$', '', c)\n",
        "  c = re.sub(r'W', ' ', c)\n",
        "\n",
        "  c = re.sub(r'\\s+', ' ', c)\n",
        "  c = re.sub(r'^\\s+', '', c)\n",
        "  c = re.sub(r'\\s+$', '', c)\n",
        "  \n",
        "  return c.lower()"
      ],
      "metadata": {
        "id": "7lD2ZioKMKzG"
      },
      "execution_count": null,
      "outputs": []
    },
    {
      "cell_type": "code",
      "source": [
        "from spacy.lang.pt import Portuguese"
      ],
      "metadata": {
        "id": "63d4SgtqOegn"
      },
      "execution_count": null,
      "outputs": []
    },
    {
      "cell_type": "code",
      "source": [
        "STOP_WORDS = spacy.lang.pt.stop_words.STOP_WORDS"
      ],
      "metadata": {
        "id": "hXU4ZsaHOogi"
      },
      "execution_count": null,
      "outputs": []
    },
    {
      "cell_type": "code",
      "source": [
        "STOP_WORDS"
      ],
      "metadata": {
        "id": "Muc17sj7O_k-"
      },
      "execution_count": null,
      "outputs": []
    },
    {
      "cell_type": "code",
      "source": [
        "def remove_stop(texto):\n",
        "  doc = nlp_pt(texto)\n",
        "  return \" \".join(x.text for x in doc if x.text not in STOP_WORDS)"
      ],
      "metadata": {
        "id": "nAAcDiJ6PGFe"
      },
      "execution_count": null,
      "outputs": []
    },
    {
      "cell_type": "code",
      "source": [
        "def limpa_texto2(texto):\n",
        "  doc = nlp_pt(texto)\n",
        "  return \" \".join(x.lemma_ for x in doc if x.text not in STOP_WORDS)\n"
      ],
      "metadata": {
        "id": "E02fJgy5RQ_e"
      },
      "execution_count": null,
      "outputs": []
    },
    {
      "cell_type": "markdown",
      "source": [
        "análise exploratória \n",
        "\n",
        "1. numero de palavras no titulo das notícias "
      ],
      "metadata": {
        "id": "tRsndKTmRrPX"
      }
    },
    {
      "cell_type": "code",
      "source": [
        "politica['title_n_words'] = politica['title'].apply(lambda x : len(x.split()))"
      ],
      "metadata": {
        "id": "38NHuLQrSkQi"
      },
      "execution_count": null,
      "outputs": []
    },
    {
      "cell_type": "code",
      "source": [
        "politica.head()"
      ],
      "metadata": {
        "id": "H9kOwSKjTMLv"
      },
      "execution_count": null,
      "outputs": []
    },
    {
      "cell_type": "code",
      "source": [
        "politica.describe()"
      ],
      "metadata": {
        "id": "PxqlnnT2Taau"
      },
      "execution_count": null,
      "outputs": []
    },
    {
      "cell_type": "markdown",
      "source": [
        "2. numero de caracteres no titulo das noticias "
      ],
      "metadata": {
        "id": "KtVP8o9wTwhW"
      }
    },
    {
      "cell_type": "code",
      "source": [
        "politica['title_n_chars'] = politica['title'].apply(lambda x : len(x.replace(\" \", \"\")))"
      ],
      "metadata": {
        "id": "5otoSBA2ThBS"
      },
      "execution_count": null,
      "outputs": []
    },
    {
      "cell_type": "code",
      "source": [
        "politica.head()"
      ],
      "metadata": {
        "id": "98_cvHE9UdAZ"
      },
      "execution_count": null,
      "outputs": []
    },
    {
      "cell_type": "code",
      "source": [
        "politica.describe()"
      ],
      "metadata": {
        "id": "1Jg4fGDGUhr5"
      },
      "execution_count": null,
      "outputs": []
    },
    {
      "cell_type": "code",
      "source": [
        "politica.title_n_words.hist();\n",
        "plt.xlabel('número de palavras')\n",
        "plt.ylabel('qtd')\n",
        "plt.grid(b=None)\n",
        "plt.show()"
      ],
      "metadata": {
        "id": "P-A7eWyzUsRV"
      },
      "execution_count": null,
      "outputs": []
    },
    {
      "cell_type": "code",
      "source": [
        "politica.title_n_chars.hist();\n",
        "plt.xlabel('número de caracteres')\n",
        "plt.ylabel('qtd')\n",
        "plt.grid(b=None)\n",
        "plt.show()"
      ],
      "metadata": {
        "id": "F4aQwcaJVTex"
      },
      "execution_count": null,
      "outputs": []
    },
    {
      "cell_type": "code",
      "source": [],
      "metadata": {
        "id": "gQwFNfO0V4n_"
      },
      "execution_count": null,
      "outputs": []
    },
    {
      "cell_type": "markdown",
      "source": [
        "limpeza dos dados "
      ],
      "metadata": {
        "id": "OdHAUInRZd2Y"
      }
    },
    {
      "cell_type": "code",
      "source": [
        "!spacy download es_core_news_sm\n"
      ],
      "metadata": {
        "id": "9CN6IbY6kII3"
      },
      "execution_count": null,
      "outputs": []
    },
    {
      "cell_type": "code",
      "source": [
        "nlp_pt = spacy.load('pt_core_news_sm')"
      ],
      "metadata": {
        "id": "6Z-agucpZobE"
      },
      "execution_count": null,
      "outputs": []
    },
    {
      "cell_type": "code",
      "source": [
        "rev = politica.iloc[0]['title']"
      ],
      "metadata": {
        "id": "vrLteTRLZfh0"
      },
      "execution_count": null,
      "outputs": []
    },
    {
      "cell_type": "code",
      "source": [
        "rev"
      ],
      "metadata": {
        "id": "ewb0u82IZ1kB"
      },
      "execution_count": null,
      "outputs": []
    },
    {
      "cell_type": "code",
      "source": [
        "rev = limpa_texto(rev)"
      ],
      "metadata": {
        "id": "mG-3LVcDZ59f"
      },
      "execution_count": null,
      "outputs": []
    },
    {
      "cell_type": "code",
      "source": [
        "rev"
      ],
      "metadata": {
        "id": "ReTI8suNaBWt"
      },
      "execution_count": null,
      "outputs": []
    },
    {
      "cell_type": "code",
      "source": [
        "rev2 = politica.iloc[13]['title']"
      ],
      "metadata": {
        "id": "dTv5pQu-aHQI"
      },
      "execution_count": null,
      "outputs": []
    },
    {
      "cell_type": "code",
      "source": [
        "rev2"
      ],
      "metadata": {
        "id": "SY5CdZ_iaO9z"
      },
      "execution_count": null,
      "outputs": []
    },
    {
      "cell_type": "code",
      "source": [
        "limpa_texto(rev2)"
      ],
      "metadata": {
        "id": "Pm4HN4XRaQ8Q"
      },
      "execution_count": null,
      "outputs": []
    },
    {
      "cell_type": "code",
      "source": [
        "rev = nlp_pt(rev)"
      ],
      "metadata": {
        "id": "3x_t4gn_aZYv"
      },
      "execution_count": null,
      "outputs": []
    },
    {
      "cell_type": "code",
      "source": [
        "rev"
      ],
      "metadata": {
        "id": "IkqaswQnajmu"
      },
      "execution_count": null,
      "outputs": []
    },
    {
      "cell_type": "code",
      "source": [
        "from ast import FormattedValue\n",
        "def exibe_token(texto):\n",
        "  col_names = ['ALPHA', 'PUNCT', 'LIKE NUM', 'POS']\n",
        "  formatted_text = '{:>16}' * (len(col_names) + 1)\n",
        "  print('\\n', formatted_text.format('INPUT WORD', *col_names), '\\n', '='*130)\n",
        "\n",
        "  for token in texto:\n",
        "    output = [token.text, token.is_alpha, token.is_punct, token.like_num, token.pos_]\n",
        "    print(formatted_text.format(*output))\n"
      ],
      "metadata": {
        "id": "5qB7JqRxak0v"
      },
      "execution_count": null,
      "outputs": []
    },
    {
      "cell_type": "code",
      "source": [
        "exibe_token(rev)"
      ],
      "metadata": {
        "id": "5PWpwEY-c1ae"
      },
      "execution_count": null,
      "outputs": []
    },
    {
      "cell_type": "code",
      "source": [
        "from spacy import displacy"
      ],
      "metadata": {
        "id": "yiuXh0Mmdw9o"
      },
      "execution_count": null,
      "outputs": []
    },
    {
      "cell_type": "code",
      "source": [
        "displacy.render(rev, style='dep', jupyter=True)"
      ],
      "metadata": {
        "id": "dZ6GTBO7dz7T"
      },
      "execution_count": null,
      "outputs": []
    },
    {
      "cell_type": "code",
      "source": [
        "rev2 = nlp_pt(rev2)"
      ],
      "metadata": {
        "id": "M-KZfa5peNxq"
      },
      "execution_count": null,
      "outputs": []
    },
    {
      "cell_type": "code",
      "source": [
        "exibe_token(rev2)"
      ],
      "metadata": {
        "id": "tjnxjeJDeRXq"
      },
      "execution_count": null,
      "outputs": []
    },
    {
      "cell_type": "code",
      "source": [
        "politica['title_clean'] = politica['title'].apply(lambda x : limpa_texto(x))"
      ],
      "metadata": {
        "id": "RjTNKANZecJi"
      },
      "execution_count": null,
      "outputs": []
    },
    {
      "cell_type": "code",
      "source": [
        "politica.head(10)"
      ],
      "metadata": {
        "id": "Xz4pmUg-e6s2"
      },
      "execution_count": null,
      "outputs": []
    },
    {
      "cell_type": "code",
      "source": [
        "politica['title_clean_no_stop'] = politica['title_clean'].apply(lambda x : remove_stop(x))"
      ],
      "metadata": {
        "id": "XiKw4S9jfJrS"
      },
      "execution_count": null,
      "outputs": []
    },
    {
      "cell_type": "code",
      "source": [
        "politica.iloc[0]['title_clean']"
      ],
      "metadata": {
        "id": "vEbnjmwYflKG"
      },
      "execution_count": null,
      "outputs": []
    },
    {
      "cell_type": "code",
      "source": [
        "politica.iloc[0]['title_clean_no_stop']"
      ],
      "metadata": {
        "id": "oPCfRGtZfsTp"
      },
      "execution_count": null,
      "outputs": []
    },
    {
      "cell_type": "markdown",
      "source": [
        "lematização"
      ],
      "metadata": {
        "id": "P8OvQI_7gmip"
      }
    },
    {
      "cell_type": "code",
      "source": [
        "politica['title_lemmas'] = politica['title_clean_no_stop'].apply(lambda x : limpa_texto2(x))"
      ],
      "metadata": {
        "id": "5uhPcELTgjPe"
      },
      "execution_count": null,
      "outputs": []
    },
    {
      "cell_type": "code",
      "source": [
        "politica.iloc[0]['title_lemmas']"
      ],
      "metadata": {
        "id": "5eeVWjHQg-1A"
      },
      "execution_count": null,
      "outputs": []
    },
    {
      "cell_type": "code",
      "source": [
        "politica"
      ],
      "metadata": {
        "id": "LiYOA08LrRk8"
      },
      "execution_count": null,
      "outputs": []
    },
    {
      "cell_type": "code",
      "source": [
        "politica.iloc[13]['title_lemmas']"
      ],
      "metadata": {
        "id": "yy3mBMevhLNt"
      },
      "execution_count": null,
      "outputs": []
    },
    {
      "cell_type": "markdown",
      "source": [
        "*N*-grams (Quais tokens são mais comuns.)"
      ],
      "metadata": {
        "id": "IBnZxcEXhmzt"
      }
    },
    {
      "cell_type": "code",
      "source": [
        "titulos = \" \".join(politica['title_lemmas'])"
      ],
      "metadata": {
        "id": "kuIqCzjhhqgR"
      },
      "execution_count": null,
      "outputs": []
    },
    {
      "cell_type": "code",
      "source": [
        "token = word_tokenize(titulos)"
      ],
      "metadata": {
        "id": "dIY1yAGwhyg_"
      },
      "execution_count": null,
      "outputs": []
    },
    {
      "cell_type": "code",
      "source": [
        "bigrams = ngrams(token,2)"
      ],
      "metadata": {
        "id": "fz2oZ8QNiGaN"
      },
      "execution_count": null,
      "outputs": []
    },
    {
      "cell_type": "code",
      "source": [
        "print(Counter(bigrams).most_common(10))"
      ],
      "metadata": {
        "id": "wQ_LsEvjiKh1"
      },
      "execution_count": null,
      "outputs": []
    },
    {
      "cell_type": "code",
      "source": [
        "trigrams = ngrams(token,3)"
      ],
      "metadata": {
        "id": "apjZTaOqipG1"
      },
      "execution_count": null,
      "outputs": []
    },
    {
      "cell_type": "code",
      "source": [
        "print(Counter(trigrams).most_common(10))"
      ],
      "metadata": {
        "id": "l5pT7b2yiw2y"
      },
      "execution_count": null,
      "outputs": []
    },
    {
      "cell_type": "code",
      "source": [
        "vectorizer = CountVectorizer(min_df=10, max_df = 0.9, stop_words=STOP_WORDS, lowercase=True)"
      ],
      "metadata": {
        "id": "X_QEl85JjvAO"
      },
      "execution_count": null,
      "outputs": []
    },
    {
      "cell_type": "code",
      "source": [
        "data_vectorized = vectorizer.fit_transform(politica['title_lemmas'])"
      ],
      "metadata": {
        "id": "l2aTxWERkO-o"
      },
      "execution_count": null,
      "outputs": []
    },
    {
      "cell_type": "code",
      "source": [
        "NUM_TOPICS = 2 "
      ],
      "metadata": {
        "id": "AE1IYE2rkayA"
      },
      "execution_count": null,
      "outputs": []
    },
    {
      "cell_type": "code",
      "source": [
        "lda = LatentDirichletAllocation(n_components=NUM_TOPICS, max_iter=30, learning_method='online', verbose=True)"
      ],
      "metadata": {
        "id": "ZbpxBo4ckoyB"
      },
      "execution_count": null,
      "outputs": []
    },
    {
      "cell_type": "code",
      "source": [
        "data_lda = lda.fit_transform(data_vectorized)"
      ],
      "metadata": {
        "id": "36vzxqZpk4Ip"
      },
      "execution_count": null,
      "outputs": []
    },
    {
      "cell_type": "code",
      "source": [
        "import pyLDAvis.sklearn"
      ],
      "metadata": {
        "id": "oON5M57mlPcF"
      },
      "execution_count": null,
      "outputs": []
    },
    {
      "cell_type": "code",
      "source": [
        "pyLDAvis.enable_notebook()"
      ],
      "metadata": {
        "id": "0HgZ6WaBk99w"
      },
      "execution_count": null,
      "outputs": []
    },
    {
      "cell_type": "code",
      "source": [
        "dash = pyLDAvis.sklearn.prepare(lda, data_vectorized, vectorizer, mds='tsne')"
      ],
      "metadata": {
        "id": "lPOzKAEemQQg"
      },
      "execution_count": null,
      "outputs": []
    },
    {
      "cell_type": "code",
      "source": [
        "dash"
      ],
      "metadata": {
        "id": "KU_brh9vmm9g"
      },
      "execution_count": null,
      "outputs": []
    }
  ]
}